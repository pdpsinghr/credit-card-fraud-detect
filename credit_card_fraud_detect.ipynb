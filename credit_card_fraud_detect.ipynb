{
 "cells": [
  {
   "cell_type": "code",
   "execution_count": 39,
   "metadata": {},
   "outputs": [],
   "source": [
    "import numpy as np\n",
    "import pandas as pd"
   ]
  },
  {
   "cell_type": "code",
   "execution_count": 41,
   "metadata": {},
   "outputs": [],
   "source": [
    "from subprocess import check_output\n",
    "import matplotlib.pyplot as plt\n",
    "import seaborn as sns\n",
    "from sklearn.preprocessing import MinMaxScaler\n",
    "from sklearn.metrics import accuracy_score,precision_score,recall_score,f1_score\\\n",
    "    ,fbeta_score,classification_report,confusion_matrix,precision_recall_curve,roc_auc_score\\\n",
    "    ,roc_curve\n"
   ]
  },
  {
   "cell_type": "code",
   "execution_count": 43,
   "metadata": {},
   "outputs": [
    {
     "data": {
      "text/html": [
       "<div>\n",
       "<style scoped>\n",
       "    .dataframe tbody tr th:only-of-type {\n",
       "        vertical-align: middle;\n",
       "    }\n",
       "\n",
       "    .dataframe tbody tr th {\n",
       "        vertical-align: top;\n",
       "    }\n",
       "\n",
       "    .dataframe thead th {\n",
       "        text-align: right;\n",
       "    }\n",
       "</style>\n",
       "<table border=\"1\" class=\"dataframe\">\n",
       "  <thead>\n",
       "    <tr style=\"text-align: right;\">\n",
       "      <th></th>\n",
       "      <th>Time</th>\n",
       "      <th>V1</th>\n",
       "      <th>V2</th>\n",
       "      <th>V3</th>\n",
       "      <th>V4</th>\n",
       "      <th>V5</th>\n",
       "      <th>V6</th>\n",
       "      <th>V7</th>\n",
       "      <th>V8</th>\n",
       "      <th>V9</th>\n",
       "      <th>...</th>\n",
       "      <th>V21</th>\n",
       "      <th>V22</th>\n",
       "      <th>V23</th>\n",
       "      <th>V24</th>\n",
       "      <th>V25</th>\n",
       "      <th>V26</th>\n",
       "      <th>V27</th>\n",
       "      <th>V28</th>\n",
       "      <th>Amount</th>\n",
       "      <th>Class</th>\n",
       "    </tr>\n",
       "  </thead>\n",
       "  <tbody>\n",
       "    <tr>\n",
       "      <th>0</th>\n",
       "      <td>0.0</td>\n",
       "      <td>-1.359807</td>\n",
       "      <td>-0.072781</td>\n",
       "      <td>2.536347</td>\n",
       "      <td>1.378155</td>\n",
       "      <td>-0.338321</td>\n",
       "      <td>0.462388</td>\n",
       "      <td>0.239599</td>\n",
       "      <td>0.098698</td>\n",
       "      <td>0.363787</td>\n",
       "      <td>...</td>\n",
       "      <td>-0.018307</td>\n",
       "      <td>0.277838</td>\n",
       "      <td>-0.110474</td>\n",
       "      <td>0.066928</td>\n",
       "      <td>0.128539</td>\n",
       "      <td>-0.189115</td>\n",
       "      <td>0.133558</td>\n",
       "      <td>-0.021053</td>\n",
       "      <td>149.62</td>\n",
       "      <td>0</td>\n",
       "    </tr>\n",
       "    <tr>\n",
       "      <th>1</th>\n",
       "      <td>0.0</td>\n",
       "      <td>1.191857</td>\n",
       "      <td>0.266151</td>\n",
       "      <td>0.166480</td>\n",
       "      <td>0.448154</td>\n",
       "      <td>0.060018</td>\n",
       "      <td>-0.082361</td>\n",
       "      <td>-0.078803</td>\n",
       "      <td>0.085102</td>\n",
       "      <td>-0.255425</td>\n",
       "      <td>...</td>\n",
       "      <td>-0.225775</td>\n",
       "      <td>-0.638672</td>\n",
       "      <td>0.101288</td>\n",
       "      <td>-0.339846</td>\n",
       "      <td>0.167170</td>\n",
       "      <td>0.125895</td>\n",
       "      <td>-0.008983</td>\n",
       "      <td>0.014724</td>\n",
       "      <td>2.69</td>\n",
       "      <td>0</td>\n",
       "    </tr>\n",
       "    <tr>\n",
       "      <th>2</th>\n",
       "      <td>1.0</td>\n",
       "      <td>-1.358354</td>\n",
       "      <td>-1.340163</td>\n",
       "      <td>1.773209</td>\n",
       "      <td>0.379780</td>\n",
       "      <td>-0.503198</td>\n",
       "      <td>1.800499</td>\n",
       "      <td>0.791461</td>\n",
       "      <td>0.247676</td>\n",
       "      <td>-1.514654</td>\n",
       "      <td>...</td>\n",
       "      <td>0.247998</td>\n",
       "      <td>0.771679</td>\n",
       "      <td>0.909412</td>\n",
       "      <td>-0.689281</td>\n",
       "      <td>-0.327642</td>\n",
       "      <td>-0.139097</td>\n",
       "      <td>-0.055353</td>\n",
       "      <td>-0.059752</td>\n",
       "      <td>378.66</td>\n",
       "      <td>0</td>\n",
       "    </tr>\n",
       "    <tr>\n",
       "      <th>3</th>\n",
       "      <td>1.0</td>\n",
       "      <td>-0.966272</td>\n",
       "      <td>-0.185226</td>\n",
       "      <td>1.792993</td>\n",
       "      <td>-0.863291</td>\n",
       "      <td>-0.010309</td>\n",
       "      <td>1.247203</td>\n",
       "      <td>0.237609</td>\n",
       "      <td>0.377436</td>\n",
       "      <td>-1.387024</td>\n",
       "      <td>...</td>\n",
       "      <td>-0.108300</td>\n",
       "      <td>0.005274</td>\n",
       "      <td>-0.190321</td>\n",
       "      <td>-1.175575</td>\n",
       "      <td>0.647376</td>\n",
       "      <td>-0.221929</td>\n",
       "      <td>0.062723</td>\n",
       "      <td>0.061458</td>\n",
       "      <td>123.50</td>\n",
       "      <td>0</td>\n",
       "    </tr>\n",
       "    <tr>\n",
       "      <th>4</th>\n",
       "      <td>2.0</td>\n",
       "      <td>-1.158233</td>\n",
       "      <td>0.877737</td>\n",
       "      <td>1.548718</td>\n",
       "      <td>0.403034</td>\n",
       "      <td>-0.407193</td>\n",
       "      <td>0.095921</td>\n",
       "      <td>0.592941</td>\n",
       "      <td>-0.270533</td>\n",
       "      <td>0.817739</td>\n",
       "      <td>...</td>\n",
       "      <td>-0.009431</td>\n",
       "      <td>0.798278</td>\n",
       "      <td>-0.137458</td>\n",
       "      <td>0.141267</td>\n",
       "      <td>-0.206010</td>\n",
       "      <td>0.502292</td>\n",
       "      <td>0.219422</td>\n",
       "      <td>0.215153</td>\n",
       "      <td>69.99</td>\n",
       "      <td>0</td>\n",
       "    </tr>\n",
       "  </tbody>\n",
       "</table>\n",
       "<p>5 rows × 31 columns</p>\n",
       "</div>"
      ],
      "text/plain": [
       "   Time        V1        V2        V3        V4        V5        V6        V7  \\\n",
       "0   0.0 -1.359807 -0.072781  2.536347  1.378155 -0.338321  0.462388  0.239599   \n",
       "1   0.0  1.191857  0.266151  0.166480  0.448154  0.060018 -0.082361 -0.078803   \n",
       "2   1.0 -1.358354 -1.340163  1.773209  0.379780 -0.503198  1.800499  0.791461   \n",
       "3   1.0 -0.966272 -0.185226  1.792993 -0.863291 -0.010309  1.247203  0.237609   \n",
       "4   2.0 -1.158233  0.877737  1.548718  0.403034 -0.407193  0.095921  0.592941   \n",
       "\n",
       "         V8        V9  ...         V21       V22       V23       V24  \\\n",
       "0  0.098698  0.363787  ...   -0.018307  0.277838 -0.110474  0.066928   \n",
       "1  0.085102 -0.255425  ...   -0.225775 -0.638672  0.101288 -0.339846   \n",
       "2  0.247676 -1.514654  ...    0.247998  0.771679  0.909412 -0.689281   \n",
       "3  0.377436 -1.387024  ...   -0.108300  0.005274 -0.190321 -1.175575   \n",
       "4 -0.270533  0.817739  ...   -0.009431  0.798278 -0.137458  0.141267   \n",
       "\n",
       "        V25       V26       V27       V28  Amount  Class  \n",
       "0  0.128539 -0.189115  0.133558 -0.021053  149.62      0  \n",
       "1  0.167170  0.125895 -0.008983  0.014724    2.69      0  \n",
       "2 -0.327642 -0.139097 -0.055353 -0.059752  378.66      0  \n",
       "3  0.647376 -0.221929  0.062723  0.061458  123.50      0  \n",
       "4 -0.206010  0.502292  0.219422  0.215153   69.99      0  \n",
       "\n",
       "[5 rows x 31 columns]"
      ]
     },
     "execution_count": 43,
     "metadata": {},
     "output_type": "execute_result"
    }
   ],
   "source": [
    "df_full = pd.read_csv('creditcard.csv')\n",
    "df_full.head()"
   ]
  },
  {
   "cell_type": "code",
   "execution_count": 44,
   "metadata": {},
   "outputs": [
    {
     "data": {
      "text/plain": [
       "0    284315\n",
       "1       492\n",
       "Name: Class, dtype: int64"
      ]
     },
     "execution_count": 44,
     "metadata": {},
     "output_type": "execute_result"
    }
   ],
   "source": [
    "df_full.Class.value_counts()"
   ]
  },
  {
   "cell_type": "code",
   "execution_count": 45,
   "metadata": {},
   "outputs": [],
   "source": [
    "df_full.sort_values(by='Class', ascending=False, inplace=True) \n",
    "df_full.drop('Time', axis=1,  inplace = True)"
   ]
  },
  {
   "cell_type": "code",
   "execution_count": 46,
   "metadata": {},
   "outputs": [
    {
     "data": {
      "text/html": [
       "<div>\n",
       "<style scoped>\n",
       "    .dataframe tbody tr th:only-of-type {\n",
       "        vertical-align: middle;\n",
       "    }\n",
       "\n",
       "    .dataframe tbody tr th {\n",
       "        vertical-align: top;\n",
       "    }\n",
       "\n",
       "    .dataframe thead th {\n",
       "        text-align: right;\n",
       "    }\n",
       "</style>\n",
       "<table border=\"1\" class=\"dataframe\">\n",
       "  <thead>\n",
       "    <tr style=\"text-align: right;\">\n",
       "      <th></th>\n",
       "      <th>V1</th>\n",
       "      <th>V2</th>\n",
       "      <th>V3</th>\n",
       "      <th>V4</th>\n",
       "      <th>V5</th>\n",
       "      <th>V6</th>\n",
       "      <th>V7</th>\n",
       "      <th>V8</th>\n",
       "      <th>V9</th>\n",
       "      <th>V10</th>\n",
       "      <th>...</th>\n",
       "      <th>V21</th>\n",
       "      <th>V22</th>\n",
       "      <th>V23</th>\n",
       "      <th>V24</th>\n",
       "      <th>V25</th>\n",
       "      <th>V26</th>\n",
       "      <th>V27</th>\n",
       "      <th>V28</th>\n",
       "      <th>Amount</th>\n",
       "      <th>Class</th>\n",
       "    </tr>\n",
       "  </thead>\n",
       "  <tbody>\n",
       "    <tr>\n",
       "      <th>42635</th>\n",
       "      <td>-7.334341</td>\n",
       "      <td>4.960892</td>\n",
       "      <td>-8.451410</td>\n",
       "      <td>8.174825</td>\n",
       "      <td>-7.237464</td>\n",
       "      <td>-2.382711</td>\n",
       "      <td>-11.508842</td>\n",
       "      <td>4.635798</td>\n",
       "      <td>-6.557760</td>\n",
       "      <td>-11.519861</td>\n",
       "      <td>...</td>\n",
       "      <td>2.153755</td>\n",
       "      <td>0.033922</td>\n",
       "      <td>-0.014095</td>\n",
       "      <td>0.625250</td>\n",
       "      <td>-0.053390</td>\n",
       "      <td>0.164709</td>\n",
       "      <td>1.411047</td>\n",
       "      <td>0.315645</td>\n",
       "      <td>11.38</td>\n",
       "      <td>1</td>\n",
       "    </tr>\n",
       "    <tr>\n",
       "      <th>135718</th>\n",
       "      <td>-0.885254</td>\n",
       "      <td>1.790649</td>\n",
       "      <td>-0.945149</td>\n",
       "      <td>3.853433</td>\n",
       "      <td>-1.543510</td>\n",
       "      <td>0.188582</td>\n",
       "      <td>-2.988383</td>\n",
       "      <td>1.344059</td>\n",
       "      <td>-2.294535</td>\n",
       "      <td>-1.886176</td>\n",
       "      <td>...</td>\n",
       "      <td>0.746160</td>\n",
       "      <td>0.550802</td>\n",
       "      <td>-0.034882</td>\n",
       "      <td>-0.567608</td>\n",
       "      <td>-0.528318</td>\n",
       "      <td>0.258782</td>\n",
       "      <td>0.506893</td>\n",
       "      <td>0.176736</td>\n",
       "      <td>7.57</td>\n",
       "      <td>1</td>\n",
       "    </tr>\n",
       "    <tr>\n",
       "      <th>10568</th>\n",
       "      <td>-5.268053</td>\n",
       "      <td>9.067613</td>\n",
       "      <td>-15.960728</td>\n",
       "      <td>10.296603</td>\n",
       "      <td>-4.708241</td>\n",
       "      <td>-3.395375</td>\n",
       "      <td>-11.161057</td>\n",
       "      <td>5.499963</td>\n",
       "      <td>-5.667376</td>\n",
       "      <td>-11.627194</td>\n",
       "      <td>...</td>\n",
       "      <td>2.004110</td>\n",
       "      <td>0.191058</td>\n",
       "      <td>0.622928</td>\n",
       "      <td>-1.209264</td>\n",
       "      <td>-0.374799</td>\n",
       "      <td>0.648798</td>\n",
       "      <td>1.584697</td>\n",
       "      <td>0.720056</td>\n",
       "      <td>1.00</td>\n",
       "      <td>1</td>\n",
       "    </tr>\n",
       "    <tr>\n",
       "      <th>215132</th>\n",
       "      <td>-2.921944</td>\n",
       "      <td>-0.228062</td>\n",
       "      <td>-5.877289</td>\n",
       "      <td>2.201884</td>\n",
       "      <td>-1.935440</td>\n",
       "      <td>0.631141</td>\n",
       "      <td>-1.245106</td>\n",
       "      <td>1.511348</td>\n",
       "      <td>-1.899987</td>\n",
       "      <td>-6.428231</td>\n",
       "      <td>...</td>\n",
       "      <td>1.441622</td>\n",
       "      <td>0.895528</td>\n",
       "      <td>1.385511</td>\n",
       "      <td>-2.028024</td>\n",
       "      <td>0.509131</td>\n",
       "      <td>0.172643</td>\n",
       "      <td>0.726781</td>\n",
       "      <td>0.234514</td>\n",
       "      <td>723.21</td>\n",
       "      <td>1</td>\n",
       "    </tr>\n",
       "    <tr>\n",
       "      <th>144104</th>\n",
       "      <td>-3.365265</td>\n",
       "      <td>2.928541</td>\n",
       "      <td>-5.660999</td>\n",
       "      <td>3.891160</td>\n",
       "      <td>-1.840375</td>\n",
       "      <td>-1.800887</td>\n",
       "      <td>-5.558679</td>\n",
       "      <td>2.402322</td>\n",
       "      <td>-2.848923</td>\n",
       "      <td>-5.995676</td>\n",
       "      <td>...</td>\n",
       "      <td>0.875260</td>\n",
       "      <td>-0.102501</td>\n",
       "      <td>-0.606283</td>\n",
       "      <td>-0.743165</td>\n",
       "      <td>0.096319</td>\n",
       "      <td>-0.135060</td>\n",
       "      <td>1.238695</td>\n",
       "      <td>0.099824</td>\n",
       "      <td>1.00</td>\n",
       "      <td>1</td>\n",
       "    </tr>\n",
       "  </tbody>\n",
       "</table>\n",
       "<p>5 rows × 30 columns</p>\n",
       "</div>"
      ],
      "text/plain": [
       "              V1        V2         V3         V4        V5        V6  \\\n",
       "42635  -7.334341  4.960892  -8.451410   8.174825 -7.237464 -2.382711   \n",
       "135718 -0.885254  1.790649  -0.945149   3.853433 -1.543510  0.188582   \n",
       "10568  -5.268053  9.067613 -15.960728  10.296603 -4.708241 -3.395375   \n",
       "215132 -2.921944 -0.228062  -5.877289   2.201884 -1.935440  0.631141   \n",
       "144104 -3.365265  2.928541  -5.660999   3.891160 -1.840375 -1.800887   \n",
       "\n",
       "               V7        V8        V9        V10  ...         V21       V22  \\\n",
       "42635  -11.508842  4.635798 -6.557760 -11.519861  ...    2.153755  0.033922   \n",
       "135718  -2.988383  1.344059 -2.294535  -1.886176  ...    0.746160  0.550802   \n",
       "10568  -11.161057  5.499963 -5.667376 -11.627194  ...    2.004110  0.191058   \n",
       "215132  -1.245106  1.511348 -1.899987  -6.428231  ...    1.441622  0.895528   \n",
       "144104  -5.558679  2.402322 -2.848923  -5.995676  ...    0.875260 -0.102501   \n",
       "\n",
       "             V23       V24       V25       V26       V27       V28  Amount  \\\n",
       "42635  -0.014095  0.625250 -0.053390  0.164709  1.411047  0.315645   11.38   \n",
       "135718 -0.034882 -0.567608 -0.528318  0.258782  0.506893  0.176736    7.57   \n",
       "10568   0.622928 -1.209264 -0.374799  0.648798  1.584697  0.720056    1.00   \n",
       "215132  1.385511 -2.028024  0.509131  0.172643  0.726781  0.234514  723.21   \n",
       "144104 -0.606283 -0.743165  0.096319 -0.135060  1.238695  0.099824    1.00   \n",
       "\n",
       "        Class  \n",
       "42635       1  \n",
       "135718      1  \n",
       "10568       1  \n",
       "215132      1  \n",
       "144104      1  \n",
       "\n",
       "[5 rows x 30 columns]"
      ]
     },
     "execution_count": 46,
     "metadata": {},
     "output_type": "execute_result"
    }
   ],
   "source": [
    "df_full.head()"
   ]
  },
  {
   "cell_type": "code",
   "execution_count": 47,
   "metadata": {},
   "outputs": [
    {
     "data": {
      "text/plain": [
       "0    2508\n",
       "1     492\n",
       "Name: Class, dtype: int64"
      ]
     },
     "execution_count": 47,
     "metadata": {},
     "output_type": "execute_result"
    }
   ],
   "source": [
    "df_sample = df_full.iloc[:3000,:]\n",
    "df_sample.Class.value_counts()"
   ]
  },
  {
   "cell_type": "code",
   "execution_count": 48,
   "metadata": {},
   "outputs": [],
   "source": [
    "feature = np.array(df_sample.values[:,0:29])\n",
    "label = np.array(df_sample.values[:,-1])"
   ]
  },
  {
   "cell_type": "code",
   "execution_count": 49,
   "metadata": {},
   "outputs": [],
   "source": [
    "from sklearn.utils import shuffle\n",
    "\n",
    "shuffle_df = shuffle(df_sample, random_state=42)\n",
    "\n",
    "df_train = shuffle_df[0:2400]\n",
    "df_test = shuffle_df[2400:]"
   ]
  },
  {
   "cell_type": "code",
   "execution_count": 50,
   "metadata": {},
   "outputs": [],
   "source": [
    "train_feature = np.array(df_train.values[:,0:29])\n",
    "train_label = np.array(df_train.values[:,-1])\n",
    "test_feature = np.array(df_test.values[:,0:29])\n",
    "test_label = np.array(df_test.values[:,-1])"
   ]
  },
  {
   "cell_type": "code",
   "execution_count": 51,
   "metadata": {},
   "outputs": [
    {
     "data": {
      "text/plain": [
       "(2400, 29)"
      ]
     },
     "execution_count": 51,
     "metadata": {},
     "output_type": "execute_result"
    }
   ],
   "source": [
    "train_feature.shape"
   ]
  },
  {
   "cell_type": "code",
   "execution_count": 52,
   "metadata": {},
   "outputs": [
    {
     "data": {
      "text/plain": [
       "(2400,)"
      ]
     },
     "execution_count": 52,
     "metadata": {},
     "output_type": "execute_result"
    }
   ],
   "source": [
    "train_label.shape"
   ]
  },
  {
   "cell_type": "code",
   "execution_count": 53,
   "metadata": {},
   "outputs": [],
   "source": [
    "from sklearn.preprocessing import MinMaxScaler\n",
    "\n",
    "scaler = MinMaxScaler()\n",
    "\n",
    "scaler.fit(train_feature)\n",
    "train_feature_trans = scaler.transform(train_feature)\n",
    "test_feature_trans = scaler.transform(test_feature)"
   ]
  },
  {
   "cell_type": "code",
   "execution_count": 57,
   "metadata": {},
   "outputs": [
    {
     "name": "stdout",
     "output_type": "stream",
     "text": [
      "_________________________________________________________________\n",
      "Layer (type)                 Output Shape              Param #   \n",
      "=================================================================\n",
      "dense_6 (Dense)              (None, 200)               6000      \n",
      "_________________________________________________________________\n",
      "dropout_5 (Dropout)          (None, 200)               0         \n",
      "_________________________________________________________________\n",
      "dense_7 (Dense)              (None, 200)               40200     \n",
      "_________________________________________________________________\n",
      "dropout_6 (Dropout)          (None, 200)               0         \n",
      "_________________________________________________________________\n",
      "dense_8 (Dense)              (None, 1)                 201       \n",
      "=================================================================\n",
      "Total params: 46,401\n",
      "Trainable params: 46,401\n",
      "Non-trainable params: 0\n",
      "_________________________________________________________________\n",
      "None\n",
      "Train on 479 samples, validate on 1921 samples\n",
      "Epoch 1/200\n",
      " - 1s - loss: 0.6942 - acc: 0.4280 - val_loss: 0.6824 - val_acc: 0.8360\n",
      "Epoch 2/200\n",
      " - 0s - loss: 0.6834 - acc: 0.7933 - val_loss: 0.6709 - val_acc: 0.8360\n",
      "Epoch 3/200\n",
      " - 0s - loss: 0.6724 - acc: 0.7996 - val_loss: 0.6579 - val_acc: 0.8360\n",
      "Epoch 4/200\n",
      " - 0s - loss: 0.6612 - acc: 0.7996 - val_loss: 0.6429 - val_acc: 0.8360\n",
      "Epoch 5/200\n",
      " - 0s - loss: 0.6485 - acc: 0.7996 - val_loss: 0.6261 - val_acc: 0.8360\n",
      "Epoch 6/200\n",
      " - 0s - loss: 0.6328 - acc: 0.7996 - val_loss: 0.6069 - val_acc: 0.8360\n",
      "Epoch 7/200\n",
      " - 0s - loss: 0.6167 - acc: 0.7996 - val_loss: 0.5853 - val_acc: 0.8360\n",
      "Epoch 8/200\n",
      " - 0s - loss: 0.5970 - acc: 0.7996 - val_loss: 0.5618 - val_acc: 0.8360\n",
      "Epoch 9/200\n",
      " - 0s - loss: 0.5774 - acc: 0.7996 - val_loss: 0.5370 - val_acc: 0.8360\n",
      "Epoch 10/200\n",
      " - 0s - loss: 0.5557 - acc: 0.7996 - val_loss: 0.5117 - val_acc: 0.8360\n",
      "Epoch 11/200\n",
      " - 0s - loss: 0.5361 - acc: 0.7996 - val_loss: 0.4872 - val_acc: 0.8360\n",
      "Epoch 12/200\n",
      " - 0s - loss: 0.5188 - acc: 0.7996 - val_loss: 0.4646 - val_acc: 0.8360\n",
      "Epoch 13/200\n",
      " - 0s - loss: 0.4968 - acc: 0.7996 - val_loss: 0.4454 - val_acc: 0.8360\n",
      "Epoch 14/200\n",
      " - 0s - loss: 0.4785 - acc: 0.7996 - val_loss: 0.4309 - val_acc: 0.8360\n",
      "Epoch 15/200\n",
      " - 0s - loss: 0.4896 - acc: 0.7996 - val_loss: 0.4218 - val_acc: 0.8360\n",
      "Epoch 16/200\n",
      " - 0s - loss: 0.4721 - acc: 0.7996 - val_loss: 0.4177 - val_acc: 0.8360\n",
      "Epoch 17/200\n",
      " - 0s - loss: 0.4756 - acc: 0.7996 - val_loss: 0.4170 - val_acc: 0.8360\n",
      "Epoch 18/200\n",
      " - 0s - loss: 0.4766 - acc: 0.7996 - val_loss: 0.4175 - val_acc: 0.8360\n",
      "Epoch 19/200\n",
      " - 0s - loss: 0.4845 - acc: 0.7996 - val_loss: 0.4172 - val_acc: 0.8360\n",
      "Epoch 20/200\n",
      " - 0s - loss: 0.4862 - acc: 0.7996 - val_loss: 0.4154 - val_acc: 0.8360\n",
      "Epoch 21/200\n",
      " - 0s - loss: 0.4848 - acc: 0.7996 - val_loss: 0.4122 - val_acc: 0.8360\n",
      "Epoch 22/200\n",
      " - 0s - loss: 0.4834 - acc: 0.7996 - val_loss: 0.4082 - val_acc: 0.8360\n",
      "Epoch 23/200\n",
      " - 0s - loss: 0.4746 - acc: 0.7996 - val_loss: 0.4046 - val_acc: 0.8360\n",
      "Epoch 24/200\n",
      " - 0s - loss: 0.4672 - acc: 0.7996 - val_loss: 0.4021 - val_acc: 0.8360\n",
      "Epoch 25/200\n",
      " - 0s - loss: 0.4650 - acc: 0.7996 - val_loss: 0.4015 - val_acc: 0.8360\n",
      "Epoch 26/200\n",
      " - 0s - loss: 0.4557 - acc: 0.7996 - val_loss: 0.4026 - val_acc: 0.8360\n",
      "Epoch 27/200\n",
      " - 0s - loss: 0.4466 - acc: 0.7996 - val_loss: 0.4046 - val_acc: 0.8360\n",
      "Epoch 28/200\n",
      " - 0s - loss: 0.4530 - acc: 0.7996 - val_loss: 0.4067 - val_acc: 0.8360\n",
      "Epoch 29/200\n",
      " - 0s - loss: 0.4463 - acc: 0.7996 - val_loss: 0.4074 - val_acc: 0.8360\n",
      "Epoch 30/200\n",
      " - 0s - loss: 0.4485 - acc: 0.7996 - val_loss: 0.4061 - val_acc: 0.8360\n",
      "Epoch 31/200\n",
      " - 0s - loss: 0.4522 - acc: 0.7996 - val_loss: 0.4026 - val_acc: 0.8360\n",
      "Epoch 32/200\n",
      " - 0s - loss: 0.4375 - acc: 0.7996 - val_loss: 0.3971 - val_acc: 0.8360\n",
      "Epoch 33/200\n",
      " - 0s - loss: 0.4330 - acc: 0.7996 - val_loss: 0.3906 - val_acc: 0.8360\n",
      "Epoch 34/200\n",
      " - 0s - loss: 0.4326 - acc: 0.7996 - val_loss: 0.3837 - val_acc: 0.8360\n",
      "Epoch 35/200\n",
      " - 0s - loss: 0.4291 - acc: 0.7996 - val_loss: 0.3774 - val_acc: 0.8360\n",
      "Epoch 36/200\n",
      " - 0s - loss: 0.4224 - acc: 0.7996 - val_loss: 0.3720 - val_acc: 0.8360\n",
      "Epoch 37/200\n",
      " - 0s - loss: 0.4168 - acc: 0.7996 - val_loss: 0.3675 - val_acc: 0.8360\n",
      "Epoch 38/200\n",
      " - 0s - loss: 0.4173 - acc: 0.7996 - val_loss: 0.3635 - val_acc: 0.8360\n",
      "Epoch 39/200\n",
      " - 0s - loss: 0.4074 - acc: 0.7996 - val_loss: 0.3596 - val_acc: 0.8360\n",
      "Epoch 40/200\n",
      " - 0s - loss: 0.4098 - acc: 0.8017 - val_loss: 0.3556 - val_acc: 0.8360\n",
      "Epoch 41/200\n",
      " - 0s - loss: 0.4020 - acc: 0.8038 - val_loss: 0.3517 - val_acc: 0.8360\n",
      "Epoch 42/200\n",
      " - 0s - loss: 0.3999 - acc: 0.8038 - val_loss: 0.3480 - val_acc: 0.8391\n",
      "Epoch 43/200\n",
      " - 0s - loss: 0.3981 - acc: 0.8058 - val_loss: 0.3448 - val_acc: 0.8558\n",
      "Epoch 44/200\n",
      " - 0s - loss: 0.3919 - acc: 0.8163 - val_loss: 0.3420 - val_acc: 0.8605\n",
      "Epoch 45/200\n",
      " - 0s - loss: 0.3812 - acc: 0.8142 - val_loss: 0.3394 - val_acc: 0.8631\n",
      "Epoch 46/200\n",
      " - 0s - loss: 0.3769 - acc: 0.8309 - val_loss: 0.3363 - val_acc: 0.8699\n",
      "Epoch 47/200\n",
      " - 0s - loss: 0.3799 - acc: 0.8288 - val_loss: 0.3326 - val_acc: 0.8699\n",
      "Epoch 48/200\n",
      " - 0s - loss: 0.3809 - acc: 0.8413 - val_loss: 0.3282 - val_acc: 0.8709\n",
      "Epoch 49/200\n",
      " - 0s - loss: 0.3735 - acc: 0.8413 - val_loss: 0.3233 - val_acc: 0.8751\n",
      "Epoch 50/200\n",
      " - 0s - loss: 0.3592 - acc: 0.8497 - val_loss: 0.3176 - val_acc: 0.8756\n",
      "Epoch 51/200\n",
      " - 0s - loss: 0.3579 - acc: 0.8580 - val_loss: 0.3119 - val_acc: 0.8771\n",
      "Epoch 52/200\n",
      " - 0s - loss: 0.3448 - acc: 0.8580 - val_loss: 0.3065 - val_acc: 0.8787\n",
      "Epoch 53/200\n",
      " - 0s - loss: 0.3380 - acc: 0.8601 - val_loss: 0.3014 - val_acc: 0.8798\n",
      "Epoch 54/200\n",
      " - 0s - loss: 0.3438 - acc: 0.8622 - val_loss: 0.2966 - val_acc: 0.8808\n",
      "Epoch 55/200\n",
      " - 0s - loss: 0.3398 - acc: 0.8601 - val_loss: 0.2917 - val_acc: 0.8824\n",
      "Epoch 56/200\n",
      " - 0s - loss: 0.3224 - acc: 0.8685 - val_loss: 0.2866 - val_acc: 0.8865\n",
      "Epoch 57/200\n",
      " - 0s - loss: 0.3269 - acc: 0.8643 - val_loss: 0.2815 - val_acc: 0.8902\n",
      "Epoch 58/200\n",
      " - 0s - loss: 0.3218 - acc: 0.8810 - val_loss: 0.2766 - val_acc: 0.8943\n",
      "Epoch 59/200\n",
      " - 0s - loss: 0.3054 - acc: 0.8831 - val_loss: 0.2717 - val_acc: 0.8985\n",
      "Epoch 60/200\n",
      " - 0s - loss: 0.3016 - acc: 0.8810 - val_loss: 0.2667 - val_acc: 0.9042\n",
      "Epoch 61/200\n",
      " - 0s - loss: 0.2902 - acc: 0.8998 - val_loss: 0.2612 - val_acc: 0.9068\n",
      "Epoch 62/200\n",
      " - 0s - loss: 0.2944 - acc: 0.8935 - val_loss: 0.2554 - val_acc: 0.9105\n",
      "Epoch 63/200\n",
      " - 0s - loss: 0.2860 - acc: 0.8956 - val_loss: 0.2497 - val_acc: 0.9115\n",
      "Epoch 64/200\n",
      " - 0s - loss: 0.2756 - acc: 0.8998 - val_loss: 0.2442 - val_acc: 0.9151\n",
      "Epoch 65/200\n",
      " - 0s - loss: 0.2818 - acc: 0.8977 - val_loss: 0.2390 - val_acc: 0.9178\n",
      "Epoch 66/200\n",
      " - 0s - loss: 0.2678 - acc: 0.9081 - val_loss: 0.2338 - val_acc: 0.9204\n",
      "Epoch 67/200\n",
      " - 0s - loss: 0.2634 - acc: 0.9102 - val_loss: 0.2286 - val_acc: 0.9230\n",
      "Epoch 68/200\n",
      " - 0s - loss: 0.2471 - acc: 0.9144 - val_loss: 0.2235 - val_acc: 0.9240\n",
      "Epoch 69/200\n",
      " - 0s - loss: 0.2510 - acc: 0.9165 - val_loss: 0.2185 - val_acc: 0.9282\n",
      "Epoch 70/200\n",
      " - 0s - loss: 0.2564 - acc: 0.9248 - val_loss: 0.2135 - val_acc: 0.9297\n",
      "Epoch 71/200\n",
      " - 0s - loss: 0.2324 - acc: 0.9269 - val_loss: 0.2087 - val_acc: 0.9323\n",
      "Epoch 72/200\n",
      " - 0s - loss: 0.2358 - acc: 0.9248 - val_loss: 0.2040 - val_acc: 0.9360\n",
      "Epoch 73/200\n",
      " - 0s - loss: 0.2242 - acc: 0.9290 - val_loss: 0.1993 - val_acc: 0.9391\n",
      "Epoch 74/200\n",
      " - 0s - loss: 0.2243 - acc: 0.9290 - val_loss: 0.1947 - val_acc: 0.9417\n",
      "Epoch 75/200\n",
      " - 0s - loss: 0.2102 - acc: 0.9436 - val_loss: 0.1902 - val_acc: 0.9422\n",
      "Epoch 76/200\n",
      " - 0s - loss: 0.2053 - acc: 0.9290 - val_loss: 0.1860 - val_acc: 0.9443\n",
      "Epoch 77/200\n",
      " - 0s - loss: 0.1996 - acc: 0.9395 - val_loss: 0.1820 - val_acc: 0.9474\n",
      "Epoch 78/200\n",
      " - 0s - loss: 0.1885 - acc: 0.9415 - val_loss: 0.1782 - val_acc: 0.9490\n",
      "Epoch 79/200\n",
      " - 0s - loss: 0.1918 - acc: 0.9353 - val_loss: 0.1743 - val_acc: 0.9505\n",
      "Epoch 80/200\n",
      " - 0s - loss: 0.1950 - acc: 0.9436 - val_loss: 0.1706 - val_acc: 0.9526\n",
      "Epoch 81/200\n",
      " - 0s - loss: 0.1857 - acc: 0.9499 - val_loss: 0.1671 - val_acc: 0.9542\n",
      "Epoch 82/200\n",
      " - 0s - loss: 0.1814 - acc: 0.9520 - val_loss: 0.1637 - val_acc: 0.9542\n",
      "Epoch 83/200\n",
      " - 0s - loss: 0.1694 - acc: 0.9499 - val_loss: 0.1606 - val_acc: 0.9547\n",
      "Epoch 84/200\n",
      " - 0s - loss: 0.1799 - acc: 0.9499 - val_loss: 0.1578 - val_acc: 0.9547\n",
      "Epoch 85/200\n",
      " - 0s - loss: 0.1634 - acc: 0.9562 - val_loss: 0.1548 - val_acc: 0.9552\n"
     ]
    },
    {
     "name": "stdout",
     "output_type": "stream",
     "text": [
      "Epoch 86/200\n",
      " - 0s - loss: 0.1639 - acc: 0.9562 - val_loss: 0.1519 - val_acc: 0.9568\n",
      "Epoch 87/200\n",
      " - 0s - loss: 0.1625 - acc: 0.9582 - val_loss: 0.1492 - val_acc: 0.9589\n",
      "Epoch 88/200\n",
      " - 0s - loss: 0.1481 - acc: 0.9520 - val_loss: 0.1468 - val_acc: 0.9589\n",
      "Epoch 89/200\n",
      " - 0s - loss: 0.1431 - acc: 0.9603 - val_loss: 0.1447 - val_acc: 0.9594\n",
      "Epoch 90/200\n",
      " - 0s - loss: 0.1331 - acc: 0.9624 - val_loss: 0.1430 - val_acc: 0.9589\n",
      "Epoch 91/200\n",
      " - 0s - loss: 0.1490 - acc: 0.9582 - val_loss: 0.1420 - val_acc: 0.9589\n",
      "Epoch 92/200\n",
      " - 0s - loss: 0.1522 - acc: 0.9562 - val_loss: 0.1404 - val_acc: 0.9589\n",
      "Epoch 93/200\n",
      " - 0s - loss: 0.1347 - acc: 0.9603 - val_loss: 0.1376 - val_acc: 0.9604\n",
      "Epoch 94/200\n",
      " - 0s - loss: 0.1382 - acc: 0.9624 - val_loss: 0.1356 - val_acc: 0.9620\n",
      "Epoch 95/200\n",
      " - 0s - loss: 0.1308 - acc: 0.9603 - val_loss: 0.1339 - val_acc: 0.9620\n",
      "Epoch 96/200\n",
      " - 0s - loss: 0.1261 - acc: 0.9645 - val_loss: 0.1320 - val_acc: 0.9630\n",
      "Epoch 97/200\n",
      " - 0s - loss: 0.1334 - acc: 0.9708 - val_loss: 0.1307 - val_acc: 0.9625\n",
      "Epoch 98/200\n",
      " - 0s - loss: 0.1300 - acc: 0.9645 - val_loss: 0.1293 - val_acc: 0.9625\n",
      "Epoch 99/200\n",
      " - 0s - loss: 0.1251 - acc: 0.9666 - val_loss: 0.1283 - val_acc: 0.9620\n",
      "Epoch 100/200\n",
      " - 0s - loss: 0.1248 - acc: 0.9687 - val_loss: 0.1273 - val_acc: 0.9620\n",
      "Epoch 101/200\n",
      " - 0s - loss: 0.1286 - acc: 0.9645 - val_loss: 0.1259 - val_acc: 0.9625\n",
      "Epoch 102/200\n",
      " - 0s - loss: 0.1200 - acc: 0.9666 - val_loss: 0.1248 - val_acc: 0.9625\n",
      "Epoch 103/200\n",
      " - 0s - loss: 0.1138 - acc: 0.9708 - val_loss: 0.1239 - val_acc: 0.9636\n",
      "Epoch 104/200\n",
      " - 0s - loss: 0.1235 - acc: 0.9708 - val_loss: 0.1234 - val_acc: 0.9630\n",
      "Epoch 105/200\n",
      " - 0s - loss: 0.1078 - acc: 0.9708 - val_loss: 0.1230 - val_acc: 0.9630\n",
      "Epoch 106/200\n",
      " - 0s - loss: 0.1155 - acc: 0.9687 - val_loss: 0.1225 - val_acc: 0.9630\n",
      "Epoch 107/200\n",
      " - 0s - loss: 0.1198 - acc: 0.9708 - val_loss: 0.1219 - val_acc: 0.9636\n",
      "Epoch 108/200\n",
      " - 0s - loss: 0.1077 - acc: 0.9687 - val_loss: 0.1214 - val_acc: 0.9636\n",
      "Epoch 109/200\n",
      " - 0s - loss: 0.1106 - acc: 0.9729 - val_loss: 0.1206 - val_acc: 0.9641\n",
      "Epoch 110/200\n",
      " - 0s - loss: 0.1114 - acc: 0.9666 - val_loss: 0.1192 - val_acc: 0.9646\n",
      "Epoch 111/200\n",
      " - 0s - loss: 0.1121 - acc: 0.9687 - val_loss: 0.1184 - val_acc: 0.9646\n",
      "Epoch 112/200\n",
      " - 0s - loss: 0.1051 - acc: 0.9749 - val_loss: 0.1179 - val_acc: 0.9646\n",
      "Epoch 113/200\n",
      " - 0s - loss: 0.1007 - acc: 0.9729 - val_loss: 0.1176 - val_acc: 0.9646\n",
      "Epoch 114/200\n",
      " - 0s - loss: 0.1156 - acc: 0.9708 - val_loss: 0.1167 - val_acc: 0.9646\n",
      "Epoch 115/200\n",
      " - 0s - loss: 0.1005 - acc: 0.9729 - val_loss: 0.1160 - val_acc: 0.9646\n",
      "Epoch 116/200\n",
      " - 0s - loss: 0.1013 - acc: 0.9729 - val_loss: 0.1158 - val_acc: 0.9646\n",
      "Epoch 117/200\n",
      " - 0s - loss: 0.1040 - acc: 0.9687 - val_loss: 0.1163 - val_acc: 0.9651\n",
      "Epoch 118/200\n",
      " - 0s - loss: 0.1032 - acc: 0.9666 - val_loss: 0.1163 - val_acc: 0.9651\n",
      "Epoch 119/200\n",
      " - 0s - loss: 0.0950 - acc: 0.9770 - val_loss: 0.1160 - val_acc: 0.9651\n",
      "Epoch 120/200\n",
      " - 0s - loss: 0.0995 - acc: 0.9729 - val_loss: 0.1146 - val_acc: 0.9641\n",
      "Epoch 121/200\n",
      " - 0s - loss: 0.0974 - acc: 0.9729 - val_loss: 0.1139 - val_acc: 0.9651\n",
      "Epoch 122/200\n",
      " - 0s - loss: 0.0871 - acc: 0.9729 - val_loss: 0.1135 - val_acc: 0.9656\n",
      "Epoch 123/200\n",
      " - 0s - loss: 0.0896 - acc: 0.9708 - val_loss: 0.1135 - val_acc: 0.9656\n",
      "Epoch 124/200\n",
      " - 0s - loss: 0.0969 - acc: 0.9729 - val_loss: 0.1128 - val_acc: 0.9672\n",
      "Epoch 125/200\n",
      " - 0s - loss: 0.0951 - acc: 0.9791 - val_loss: 0.1127 - val_acc: 0.9672\n",
      "Epoch 126/200\n",
      " - 0s - loss: 0.0903 - acc: 0.9729 - val_loss: 0.1126 - val_acc: 0.9672\n",
      "Epoch 127/200\n",
      " - 0s - loss: 0.0901 - acc: 0.9749 - val_loss: 0.1121 - val_acc: 0.9682\n",
      "Epoch 128/200\n",
      " - 0s - loss: 0.0829 - acc: 0.9770 - val_loss: 0.1122 - val_acc: 0.9682\n",
      "Epoch 129/200\n",
      " - 0s - loss: 0.0917 - acc: 0.9708 - val_loss: 0.1122 - val_acc: 0.9682\n",
      "Epoch 130/200\n",
      " - 0s - loss: 0.0885 - acc: 0.9729 - val_loss: 0.1120 - val_acc: 0.9682\n",
      "Epoch 131/200\n",
      " - 0s - loss: 0.0853 - acc: 0.9729 - val_loss: 0.1118 - val_acc: 0.9682\n",
      "Epoch 132/200\n",
      " - 0s - loss: 0.0863 - acc: 0.9749 - val_loss: 0.1115 - val_acc: 0.9688\n",
      "Epoch 133/200\n",
      " - 0s - loss: 0.0868 - acc: 0.9791 - val_loss: 0.1116 - val_acc: 0.9688\n",
      "Epoch 134/200\n",
      " - 0s - loss: 0.0954 - acc: 0.9708 - val_loss: 0.1125 - val_acc: 0.9682\n",
      "Epoch 135/200\n",
      " - 0s - loss: 0.0873 - acc: 0.9770 - val_loss: 0.1131 - val_acc: 0.9682\n",
      "Epoch 136/200\n",
      " - 0s - loss: 0.0850 - acc: 0.9770 - val_loss: 0.1126 - val_acc: 0.9682\n",
      "Epoch 137/200\n",
      " - 0s - loss: 0.0875 - acc: 0.9749 - val_loss: 0.1115 - val_acc: 0.9688\n",
      "Epoch 138/200\n",
      " - 0s - loss: 0.0845 - acc: 0.9770 - val_loss: 0.1112 - val_acc: 0.9693\n",
      "Epoch 139/200\n",
      " - 0s - loss: 0.0845 - acc: 0.9770 - val_loss: 0.1113 - val_acc: 0.9693\n",
      "Epoch 140/200\n",
      " - 0s - loss: 0.0865 - acc: 0.9791 - val_loss: 0.1118 - val_acc: 0.9688\n",
      "Epoch 141/200\n",
      " - 0s - loss: 0.0928 - acc: 0.9749 - val_loss: 0.1115 - val_acc: 0.9688\n",
      "Epoch 142/200\n",
      " - 0s - loss: 0.0838 - acc: 0.9770 - val_loss: 0.1112 - val_acc: 0.9693\n",
      "Epoch 143/200\n",
      " - 0s - loss: 0.0844 - acc: 0.9812 - val_loss: 0.1106 - val_acc: 0.9688\n",
      "Epoch 144/200\n",
      " - 0s - loss: 0.0862 - acc: 0.9812 - val_loss: 0.1105 - val_acc: 0.9698\n",
      "Epoch 145/200\n",
      " - 0s - loss: 0.0814 - acc: 0.9833 - val_loss: 0.1107 - val_acc: 0.9698\n",
      "Epoch 146/200\n",
      " - 0s - loss: 0.0728 - acc: 0.9833 - val_loss: 0.1109 - val_acc: 0.9688\n",
      "Epoch 147/200\n",
      " - 0s - loss: 0.0813 - acc: 0.9833 - val_loss: 0.1119 - val_acc: 0.9693\n",
      "Epoch 148/200\n",
      " - 0s - loss: 0.0850 - acc: 0.9749 - val_loss: 0.1122 - val_acc: 0.9693\n",
      "Epoch 149/200\n",
      " - 0s - loss: 0.0769 - acc: 0.9791 - val_loss: 0.1109 - val_acc: 0.9698\n",
      "Epoch 150/200\n",
      " - 0s - loss: 0.0826 - acc: 0.9770 - val_loss: 0.1105 - val_acc: 0.9708\n",
      "Epoch 151/200\n",
      " - 0s - loss: 0.0682 - acc: 0.9833 - val_loss: 0.1105 - val_acc: 0.9703\n",
      "Epoch 152/200\n",
      " - 0s - loss: 0.0776 - acc: 0.9812 - val_loss: 0.1114 - val_acc: 0.9708\n",
      "Epoch 153/200\n",
      " - 0s - loss: 0.0822 - acc: 0.9812 - val_loss: 0.1125 - val_acc: 0.9693\n",
      "Epoch 154/200\n",
      " - 0s - loss: 0.0805 - acc: 0.9812 - val_loss: 0.1139 - val_acc: 0.9693\n",
      "Epoch 155/200\n",
      " - 0s - loss: 0.0776 - acc: 0.9812 - val_loss: 0.1135 - val_acc: 0.9693\n",
      "Epoch 156/200\n",
      " - 0s - loss: 0.0694 - acc: 0.9854 - val_loss: 0.1123 - val_acc: 0.9708\n",
      "Epoch 157/200\n",
      " - 0s - loss: 0.0750 - acc: 0.9833 - val_loss: 0.1114 - val_acc: 0.9719\n",
      "Epoch 158/200\n",
      " - 0s - loss: 0.0642 - acc: 0.9833 - val_loss: 0.1118 - val_acc: 0.9714\n",
      "Epoch 159/200\n",
      " - 0s - loss: 0.0699 - acc: 0.9854 - val_loss: 0.1134 - val_acc: 0.9708\n",
      "Epoch 160/200\n",
      " - 0s - loss: 0.0764 - acc: 0.9833 - val_loss: 0.1155 - val_acc: 0.9688\n",
      "Epoch 161/200\n",
      " - 0s - loss: 0.0748 - acc: 0.9791 - val_loss: 0.1155 - val_acc: 0.9688\n",
      "Epoch 162/200\n",
      " - 0s - loss: 0.0764 - acc: 0.9791 - val_loss: 0.1141 - val_acc: 0.9714\n",
      "Epoch 163/200\n",
      " - 0s - loss: 0.0734 - acc: 0.9791 - val_loss: 0.1123 - val_acc: 0.9719\n",
      "Epoch 164/200\n",
      " - 0s - loss: 0.0715 - acc: 0.9833 - val_loss: 0.1119 - val_acc: 0.9708\n",
      "Epoch 165/200\n",
      " - 0s - loss: 0.0723 - acc: 0.9812 - val_loss: 0.1119 - val_acc: 0.9714\n",
      "Epoch 166/200\n",
      " - 0s - loss: 0.0741 - acc: 0.9791 - val_loss: 0.1129 - val_acc: 0.9719\n",
      "Epoch 167/200\n",
      " - 0s - loss: 0.0786 - acc: 0.9749 - val_loss: 0.1146 - val_acc: 0.9714\n",
      "Epoch 168/200\n",
      " - 0s - loss: 0.0728 - acc: 0.9833 - val_loss: 0.1170 - val_acc: 0.9688\n",
      "Epoch 169/200\n",
      " - 0s - loss: 0.0774 - acc: 0.9833 - val_loss: 0.1161 - val_acc: 0.9703\n",
      "Epoch 170/200\n",
      " - 0s - loss: 0.0762 - acc: 0.9833 - val_loss: 0.1139 - val_acc: 0.9714\n",
      "Epoch 171/200\n",
      " - 0s - loss: 0.0726 - acc: 0.9833 - val_loss: 0.1122 - val_acc: 0.9708\n",
      "Epoch 172/200\n",
      " - 0s - loss: 0.0679 - acc: 0.9833 - val_loss: 0.1122 - val_acc: 0.9714\n",
      "Epoch 173/200\n",
      " - 0s - loss: 0.0724 - acc: 0.9770 - val_loss: 0.1124 - val_acc: 0.9708\n",
      "Epoch 174/200\n",
      " - 0s - loss: 0.0764 - acc: 0.9812 - val_loss: 0.1128 - val_acc: 0.9708\n",
      "Epoch 175/200\n",
      " - 0s - loss: 0.0777 - acc: 0.9812 - val_loss: 0.1147 - val_acc: 0.9719\n",
      "Epoch 176/200\n",
      " - 0s - loss: 0.0724 - acc: 0.9791 - val_loss: 0.1165 - val_acc: 0.9714\n",
      "Epoch 177/200\n",
      " - 0s - loss: 0.0727 - acc: 0.9812 - val_loss: 0.1166 - val_acc: 0.9714\n",
      "Epoch 178/200\n",
      " - 0s - loss: 0.0747 - acc: 0.9812 - val_loss: 0.1151 - val_acc: 0.9719\n",
      "Epoch 179/200\n",
      " - 0s - loss: 0.0699 - acc: 0.9854 - val_loss: 0.1136 - val_acc: 0.9719\n",
      "Epoch 180/200\n",
      " - 0s - loss: 0.0661 - acc: 0.9854 - val_loss: 0.1133 - val_acc: 0.9708\n",
      "Epoch 181/200\n",
      " - 0s - loss: 0.0672 - acc: 0.9854 - val_loss: 0.1137 - val_acc: 0.9708\n"
     ]
    },
    {
     "name": "stdout",
     "output_type": "stream",
     "text": [
      "Epoch 182/200\n",
      " - 0s - loss: 0.0652 - acc: 0.9854 - val_loss: 0.1149 - val_acc: 0.9719\n",
      "Epoch 183/200\n",
      " - 0s - loss: 0.0698 - acc: 0.9812 - val_loss: 0.1163 - val_acc: 0.9714\n",
      "Epoch 184/200\n",
      " - 0s - loss: 0.0690 - acc: 0.9812 - val_loss: 0.1162 - val_acc: 0.9714\n",
      "Epoch 185/200\n",
      " - 0s - loss: 0.0702 - acc: 0.9791 - val_loss: 0.1150 - val_acc: 0.9719\n",
      "Epoch 186/200\n",
      " - 0s - loss: 0.0634 - acc: 0.9812 - val_loss: 0.1141 - val_acc: 0.9708\n",
      "Epoch 187/200\n",
      " - 0s - loss: 0.0709 - acc: 0.9791 - val_loss: 0.1138 - val_acc: 0.9714\n",
      "Epoch 188/200\n",
      " - 0s - loss: 0.0708 - acc: 0.9875 - val_loss: 0.1140 - val_acc: 0.9708\n",
      "Epoch 189/200\n",
      " - 0s - loss: 0.0632 - acc: 0.9854 - val_loss: 0.1152 - val_acc: 0.9714\n",
      "Epoch 190/200\n",
      " - 0s - loss: 0.0644 - acc: 0.9854 - val_loss: 0.1169 - val_acc: 0.9714\n",
      "Epoch 191/200\n",
      " - 0s - loss: 0.0645 - acc: 0.9833 - val_loss: 0.1166 - val_acc: 0.9714\n",
      "Epoch 192/200\n",
      " - 0s - loss: 0.0677 - acc: 0.9875 - val_loss: 0.1155 - val_acc: 0.9714\n",
      "Epoch 193/200\n",
      " - 0s - loss: 0.0651 - acc: 0.9833 - val_loss: 0.1144 - val_acc: 0.9708\n",
      "Epoch 194/200\n",
      " - 0s - loss: 0.0681 - acc: 0.9833 - val_loss: 0.1142 - val_acc: 0.9714\n",
      "Epoch 195/200\n",
      " - 0s - loss: 0.0659 - acc: 0.9854 - val_loss: 0.1146 - val_acc: 0.9714\n",
      "Epoch 196/200\n",
      " - 0s - loss: 0.0709 - acc: 0.9833 - val_loss: 0.1152 - val_acc: 0.9714\n",
      "Epoch 197/200\n",
      " - 0s - loss: 0.0677 - acc: 0.9812 - val_loss: 0.1160 - val_acc: 0.9708\n",
      "Epoch 198/200\n",
      " - 0s - loss: 0.0674 - acc: 0.9854 - val_loss: 0.1165 - val_acc: 0.9708\n",
      "Epoch 199/200\n",
      " - 0s - loss: 0.0632 - acc: 0.9854 - val_loss: 0.1165 - val_acc: 0.9708\n",
      "Epoch 200/200\n",
      " - 0s - loss: 0.0628 - acc: 0.9896 - val_loss: 0.1166 - val_acc: 0.9708\n"
     ]
    },
    {
     "data": {
      "image/png": "[encoded data removed]",
      "text/plain": [
       "<Figure size 432x288 with 1 Axes>"
      ]
     },
     "metadata": {},
     "output_type": "display_data"
    },
    {
     "data": {
      "image/png": "[encoded data removed]",
      "text/plain": [
       "<Figure size 432x288 with 1 Axes>"
      ]
     },
     "metadata": {},
     "output_type": "display_data"
    },
    {
     "name": "stdout",
     "output_type": "stream",
     "text": [
      "600/600 [==============================] - 0s 66us/step\n",
      "\n",
      "\n",
      "('accuracy=', 0.97999999999999998)\n"
     ]
    }
   ],
   "source": [
    "from keras.models import Sequential\n",
    "from keras.layers import Dense\n",
    "from keras.layers import Dropout\n",
    "\n",
    "import matplotlib.pyplot as plt \n",
    "def show_train_history(train_history,train,validation):\n",
    "    plt.plot(train_history.history[train])\n",
    "    plt.plot(train_history.history[validation])\n",
    "    plt.title('Train History')\n",
    "    plt.ylabel(train)\n",
    "    plt.xlabel('Epoch')\n",
    "    plt.legend(['train', 'validation'], loc='best')\n",
    "    plt.show()\n",
    "\n",
    "model = Sequential()\n",
    "\n",
    "\n",
    "model.add(Dense(units=200, \n",
    "                input_dim=29, \n",
    "                kernel_initializer='uniform', \n",
    "                activation='relu'))\n",
    "model.add(Dropout(0.5))\n",
    "\n",
    "\n",
    "model.add(Dense(units=200,  \n",
    "                kernel_initializer='uniform', \n",
    "                activation='relu'))\n",
    "model.add(Dropout(0.5))\n",
    "\n",
    "\n",
    "model.add(Dense(units=1,  \n",
    "                kernel_initializer='uniform',\n",
    "                activation='sigmoid'))\n",
    "\n",
    "print(model.summary()) \n",
    "\n",
    "model.compile(loss='binary_crossentropy',   \n",
    "              optimizer='adam', metrics=['accuracy'])\n",
    "\n",
    "train_history = model.fit(x=train_feature_trans, y=train_label,  \n",
    "                          validation_split=0.8, epochs=200, \n",
    "                          batch_size=500, verbose=2) \n",
    "\n",
    "show_train_history(train_history,'acc','val_acc')\n",
    "show_train_history(train_history,'loss','val_loss')\n",
    "\n",
    "\n",
    "scores = model.evaluate(test_feature_trans, test_label)\n",
    "print('\\n')\n",
    "print('accuracy=',scores[1])\n",
    "\n",
    "prediction = model.predict_classes(test_feature_trans)\n",
    "\n"
   ]
  },
  {
   "cell_type": "code",
   "execution_count": 58,
   "metadata": {},
   "outputs": [],
   "source": [
    "df_ans = pd.DataFrame({'Real Class' :test_label})\n",
    "df_ans['Prediction'] = prediction"
   ]
  },
  {
   "cell_type": "code",
   "execution_count": 59,
   "metadata": {},
   "outputs": [
    {
     "data": {
      "text/html": [
       "<div>\n",
       "<style scoped>\n",
       "    .dataframe tbody tr th:only-of-type {\n",
       "        vertical-align: middle;\n",
       "    }\n",
       "\n",
       "    .dataframe tbody tr th {\n",
       "        vertical-align: top;\n",
       "    }\n",
       "\n",
       "    .dataframe thead th {\n",
       "        text-align: right;\n",
       "    }\n",
       "</style>\n",
       "<table border=\"1\" class=\"dataframe\">\n",
       "  <thead>\n",
       "    <tr style=\"text-align: right;\">\n",
       "      <th></th>\n",
       "      <th>Real Class</th>\n",
       "      <th>Prediction</th>\n",
       "    </tr>\n",
       "  </thead>\n",
       "  <tbody>\n",
       "    <tr>\n",
       "      <th>110</th>\n",
       "      <td>1.0</td>\n",
       "      <td>0</td>\n",
       "    </tr>\n",
       "    <tr>\n",
       "      <th>163</th>\n",
       "      <td>0.0</td>\n",
       "      <td>1</td>\n",
       "    </tr>\n",
       "    <tr>\n",
       "      <th>224</th>\n",
       "      <td>1.0</td>\n",
       "      <td>0</td>\n",
       "    </tr>\n",
       "    <tr>\n",
       "      <th>265</th>\n",
       "      <td>0.0</td>\n",
       "      <td>1</td>\n",
       "    </tr>\n",
       "    <tr>\n",
       "      <th>283</th>\n",
       "      <td>0.0</td>\n",
       "      <td>1</td>\n",
       "    </tr>\n",
       "    <tr>\n",
       "      <th>308</th>\n",
       "      <td>1.0</td>\n",
       "      <td>0</td>\n",
       "    </tr>\n",
       "    <tr>\n",
       "      <th>345</th>\n",
       "      <td>1.0</td>\n",
       "      <td>0</td>\n",
       "    </tr>\n",
       "    <tr>\n",
       "      <th>357</th>\n",
       "      <td>1.0</td>\n",
       "      <td>0</td>\n",
       "    </tr>\n",
       "    <tr>\n",
       "      <th>378</th>\n",
       "      <td>1.0</td>\n",
       "      <td>0</td>\n",
       "    </tr>\n",
       "    <tr>\n",
       "      <th>484</th>\n",
       "      <td>0.0</td>\n",
       "      <td>1</td>\n",
       "    </tr>\n",
       "    <tr>\n",
       "      <th>494</th>\n",
       "      <td>1.0</td>\n",
       "      <td>0</td>\n",
       "    </tr>\n",
       "    <tr>\n",
       "      <th>518</th>\n",
       "      <td>0.0</td>\n",
       "      <td>1</td>\n",
       "    </tr>\n",
       "  </tbody>\n",
       "</table>\n",
       "</div>"
      ],
      "text/plain": [
       "     Real Class  Prediction\n",
       "110         1.0           0\n",
       "163         0.0           1\n",
       "224         1.0           0\n",
       "265         0.0           1\n",
       "283         0.0           1\n",
       "308         1.0           0\n",
       "345         1.0           0\n",
       "357         1.0           0\n",
       "378         1.0           0\n",
       "484         0.0           1\n",
       "494         1.0           0\n",
       "518         0.0           1"
      ]
     },
     "execution_count": 59,
     "metadata": {},
     "output_type": "execute_result"
    }
   ],
   "source": [
    "df_ans[ df_ans['Real Class']!= df_ans['Prediction']]"
   ]
  },
  {
   "cell_type": "code",
   "execution_count": 61,
   "metadata": {},
   "outputs": [
    {
     "data": {
      "text/plain": [
       "0    521\n",
       "1     79\n",
       "Name: Prediction, dtype: int64"
      ]
     },
     "execution_count": 61,
     "metadata": {},
     "output_type": "execute_result"
    }
   ],
   "source": [
    "df_ans['Prediction'].value_counts()"
   ]
  },
  {
   "cell_type": "code",
   "execution_count": 62,
   "metadata": {},
   "outputs": [
    {
     "data": {
      "text/plain": [
       "0.0    519\n",
       "1.0     81\n",
       "Name: Real Class, dtype: int64"
      ]
     },
     "execution_count": 62,
     "metadata": {},
     "output_type": "execute_result"
    }
   ],
   "source": [
    "df_ans['Real Class'].value_counts()"
   ]
  },
  {
   "cell_type": "code",
   "execution_count": 68,
   "metadata": {},
   "outputs": [
    {
     "name": "stdout",
     "output_type": "stream",
     "text": [
      "('total test case number:', 600)\n"
     ]
    },
    {
     "data": {
      "image/png": "[encoded data removed]",
      "text/plain": [
       "<Figure size 360x360 with 2 Axes>"
      ]
     },
     "metadata": {},
     "output_type": "display_data"
    }
   ],
   "source": [
    "import seaborn as sns\n",
    "%matplotlib inline\n",
    "\n",
    "cols = ['Real_Class_1','Real_Class_0']\n",
    "rows = ['Prediction_1','Prediction_0']\n",
    "\n",
    "B1P1 = len(df_ans[(df_ans['Prediction'] == df_ans['Real Class']) & (df_ans['Real Class'] == 1)])\n",
    "B1P0 = len(df_ans[(df_ans['Prediction'] != df_ans['Real Class']) & (df_ans['Real Class'] == 1)])\n",
    "B0P1 = len(df_ans[(df_ans['Prediction'] != df_ans['Real Class']) & (df_ans['Real Class'] == 0)])\n",
    "B0P0 = len(df_ans[(df_ans['Prediction'] == df_ans['Real Class']) & (df_ans['Real Class'] == 0)])\n",
    "\n",
    "conf = np.array([[B1P1, B0P1],[B1P0, B0P0]])\n",
    "df_cm = pd.DataFrame(conf, columns = [i for i in cols], index = [i for i in rows])\n",
    "\n",
    "f,ax = plt.subplots(figsize = (5,5))\n",
    "sns.heatmap(df_cm, annot = True, ax = ax, fmt = 'd')\n",
    "ax.xaxis.set_ticks_position('top')\n",
    "print('total test case number:' , np.sum(conf))"
   ]
  },
  {
   "cell_type": "code",
   "execution_count": 82,
   "metadata": {},
   "outputs": [
    {
     "name": "stdout",
     "output_type": "stream",
     "text": [
      "('total_num: ', 600)\n",
      "('G1P1: ', 74)\n",
      "('G0P1: ', 5)\n",
      "('G1P0: ', 7)\n",
      "('G0P0: ', 514)\n",
      "##########################\n",
      "('sensitivity: ', 0)\n",
      "('specificity: ', 0)\n",
      "('false_positive_rate: ', 0)\n",
      "('false_negative_rate: ', 0)\n"
     ]
    },
    {
     "data": {
      "text/plain": [
       "(600, 0, 0, 0, 0)"
      ]
     },
     "execution_count": 82,
     "metadata": {},
     "output_type": "execute_result"
    }
   ],
   "source": [
    "def model_efficacy(conf):\n",
    "    total_num = np.sum(conf)\n",
    "    sen = conf[0][0]/(conf[0][0]+conf[1][0])\n",
    "    spe = conf[1][1]/(conf[1][0]+conf[1][1])\n",
    "    false_positive_rate = conf[0][1]/(conf[0][1]+conf[1][1])\n",
    "    false_negative_rate = conf[1][0]/(conf[0][0]+conf[1][0])\n",
    "    \n",
    "    print('total_num: ',total_num)\n",
    "    print('G1P1: ',conf[0][0]) \n",
    "    print('G0P1: ',conf[0][1])\n",
    "    print('G1P0: ',conf[1][0])\n",
    "    print('G0P0: ',conf[1][1])\n",
    "    print('##########################')\n",
    "    print('sensitivity: ',sen)\n",
    "    print('specificity: ',spe)\n",
    "    print('false_positive_rate: ',false_positive_rate)\n",
    "    print('false_negative_rate: ',false_negative_rate)\n",
    "    \n",
    "    return total_num, sen, spe, false_positive_rate, false_negative_rate\n",
    "\n",
    "model_efficacy(conf)"
   ]
  },
  {
   "cell_type": "code",
   "execution_count": 83,
   "metadata": {},
   "outputs": [
    {
     "name": "stdout",
     "output_type": "stream",
     "text": [
      "284807/284807 [==============================] - 17s 61us/step\n",
      "\n",
      "\n",
      "('accuracy=', 0.98654527451923579)\n"
     ]
    }
   ],
   "source": [
    "df_sample2 = df_full.iloc[:,:]\n",
    "feature2 = np.array(df_sample2.values[:,0:29])\n",
    "label2 = np.array(df_sample2.values[:,-1])\n",
    "\n",
    "feature2_trans = scaler.transform(feature2) #using the same scaler as above\n",
    "\n",
    "scores = model.evaluate(feature2_trans, label2)\n",
    "print('\\n')\n",
    "print('accuracy=',scores[1])\n",
    "\n",
    "prediction2 = model.predict_classes(feature2_trans)"
   ]
  },
  {
   "cell_type": "code",
   "execution_count": 84,
   "metadata": {},
   "outputs": [
    {
     "name": "stdout",
     "output_type": "stream",
     "text": [
      "             precision    recall  f1-score   support\n",
      "\n",
      "          0       1.00      0.99      0.99    284315\n",
      "          1       0.10      0.88      0.18       492\n",
      "\n",
      "avg / total       1.00      0.99      0.99    284807\n",
      "\n",
      "[[280542   3773]\n",
      " [    59    433]]\n"
     ]
    }
   ],
   "source": [
    "prediction2_list = prediction2.reshape(-1).astype(int)\n",
    "label2_list = label2.astype(int)\n",
    "\n",
    "print(classification_report(label2_list, prediction2_list))\n",
    "print(confusion_matrix(label2_list, prediction2_list))"
   ]
  },
  {
   "cell_type": "code",
   "execution_count": 90,
   "metadata": {},
   "outputs": [
    {
     "data": {
      "image/png": "[encoded data removed]",
      "text/plain": [
       "<Figure size 360x360 with 2 Axes>"
      ]
     },
     "metadata": {},
     "output_type": "display_data"
    }
   ],
   "source": [
    "conf = confusion_matrix(label2_list, prediction2_list)\n",
    "f, ax= plt.subplots(figsize = (5, 5))\n",
    "sns.heatmap(conf, annot=True, ax=ax, fmt='d') \n",
    "ax.xaxis.set_ticks_position('top')"
   ]
  },
  {
   "cell_type": "code",
   "execution_count": 91,
   "metadata": {},
   "outputs": [
    {
     "name": "stdout",
     "output_type": "stream",
     "text": [
      "('total_num: ', 284807)\n",
      "('G1P1: ', 280542)\n",
      "('G0P1: ', 3773)\n",
      "('G1P0: ', 59)\n",
      "('G0P0: ', 433)\n",
      "##########################\n",
      "('sensitivity: ', 0)\n",
      "('specificity: ', 0)\n",
      "('false_positive_rate: ', 0)\n",
      "('false_negative_rate: ', 0)\n"
     ]
    },
    {
     "data": {
      "text/plain": [
       "(284807, 0, 0, 0, 0)"
      ]
     },
     "execution_count": 91,
     "metadata": {},
     "output_type": "execute_result"
    }
   ],
   "source": [
    "def model_efficacy(conf):\n",
    "    total_num = np.sum(conf)\n",
    "    sen = conf[0][0]/(conf[0][0]+conf[1][0])\n",
    "    spe = conf[1][1]/(conf[1][0]+conf[1][1])\n",
    "    false_positive_rate = conf[0][1]/(conf[0][1]+conf[1][1])\n",
    "    false_negative_rate = conf[1][0]/(conf[0][0]+conf[1][0])\n",
    "    \n",
    "    print('total_num: ',total_num)\n",
    "    print('G1P1: ',conf[0][0]) \n",
    "    print('G0P1: ',conf[0][1])\n",
    "    print('G1P0: ',conf[1][0])\n",
    "    print('G0P0: ',conf[1][1])\n",
    "    print('##########################')\n",
    "    print('sensitivity: ',sen)\n",
    "    print('specificity: ',spe)\n",
    "    print('false_positive_rate: ',false_positive_rate)\n",
    "    print('false_negative_rate: ',false_negative_rate)\n",
    "    \n",
    "    return total_num, sen, spe, false_positive_rate, false_negative_rate\n",
    "\n",
    "model_efficacy(conf)"
   ]
  },
  {
   "cell_type": "code",
   "execution_count": 92,
   "metadata": {},
   "outputs": [],
   "source": [
    "df_sample2 = df_full.iloc[:,:] \n",
    "feature2 = np.array(df_sample2.values[:,0:29])\n",
    "label2 = np.array(df_sample2.values[:,-1])\n",
    "\n",
    "feature2_trans = scaler.transform(feature2)"
   ]
  },
  {
   "cell_type": "code",
   "execution_count": 93,
   "metadata": {},
   "outputs": [
    {
     "name": "stderr",
     "output_type": "stream",
     "text": [
      "/home/pradeep/anaconda3/envs/tensorflow/lib/python2.7/site-packages/sklearn/cross_validation.py:41: DeprecationWarning: This module was deprecated in version 0.18 in favor of the model_selection module into which all the refactored classes and functions are moved. Also note that the interface of the new CV iterators are different from that of this module. This module will be removed in 0.20.\n",
      "  \"This module will be removed in 0.20.\", DeprecationWarning)\n"
     ]
    },
    {
     "name": "stdout",
     "output_type": "stream",
     "text": [
      "Traing Score:0.984583\n",
      "Testing Score:0.981667\n"
     ]
    }
   ],
   "source": [
    "from sklearn import datasets,cross_validation,ensemble\n",
    "\n",
    "X_train,X_test,y_train,y_test = cross_validation.train_test_split(train_feature_trans,train_label, \n",
    "                                              test_size=0.25, random_state=0,stratify=train_label)\n",
    "clf=ensemble.AdaBoostClassifier()\n",
    "clf.fit(X_train,y_train)\n",
    "print(\"Traing Score:%f\"%clf.score(train_feature_trans,train_label))\n",
    "print(\"Testing Score:%f\"%clf.score(test_feature_trans,test_label))"
   ]
  },
  {
   "cell_type": "code",
   "execution_count": 94,
   "metadata": {},
   "outputs": [
    {
     "name": "stdout",
     "output_type": "stream",
     "text": [
      "Testing Score:0.948435\n"
     ]
    }
   ],
   "source": [
    "print(\"Testing Score:%f\"%clf.score(feature2_trans, label2))"
   ]
  },
  {
   "cell_type": "code",
   "execution_count": 95,
   "metadata": {},
   "outputs": [
    {
     "name": "stdout",
     "output_type": "stream",
     "text": [
      "             precision    recall  f1-score   support\n",
      "\n",
      "          0       1.00      0.95      0.97    284315\n",
      "          1       0.03      0.93      0.06       492\n",
      "\n",
      "avg / total       1.00      0.95      0.97    284807\n",
      "\n",
      "[[269662  14653]\n",
      " [    33    459]]\n"
     ]
    }
   ],
   "source": [
    "prediction2 = clf.predict(feature2_trans)\n",
    "prediction2_list = prediction2.reshape(-1).astype(int)\n",
    "label2_list = label2.astype(int)\n",
    "\n",
    "print(classification_report(label2_list, prediction2_list))\n",
    "print(confusion_matrix(label2_list, prediction2_list))"
   ]
  },
  {
   "cell_type": "code",
   "execution_count": 96,
   "metadata": {},
   "outputs": [
    {
     "name": "stdout",
     "output_type": "stream",
     "text": [
      "('total_num: ', 284807)\n",
      "('G1P1: ', 269662)\n",
      "('G0P1: ', 14653)\n",
      "('G1P0: ', 33)\n",
      "('G0P0: ', 459)\n",
      "##########################\n",
      "('sensitivity: ', 0)\n",
      "('specificity: ', 0)\n",
      "('false_positive_rate: ', 0)\n",
      "('false_negative_rate: ', 0)\n"
     ]
    },
    {
     "data": {
      "text/plain": [
       "(284807, 0, 0, 0, 0)"
      ]
     },
     "execution_count": 96,
     "metadata": {},
     "output_type": "execute_result"
    }
   ],
   "source": [
    "def model_efficacy(conf):\n",
    "    total_num = np.sum(conf)\n",
    "    sen = conf[0][0]/(conf[0][0]+conf[1][0])\n",
    "    spe = conf[1][1]/(conf[1][0]+conf[1][1])\n",
    "    false_positive_rate = conf[0][1]/(conf[0][1]+conf[1][1])\n",
    "    false_negative_rate = conf[1][0]/(conf[0][0]+conf[1][0])\n",
    "    \n",
    "    print('total_num: ',total_num)\n",
    "    print('G1P1: ',conf[0][0]) \n",
    "    print('G0P1: ',conf[0][1])\n",
    "    print('G1P0: ',conf[1][0])\n",
    "    print('G0P0: ',conf[1][1])\n",
    "    print('##########################')\n",
    "    print('sensitivity: ',sen)\n",
    "    print('specificity: ',spe)\n",
    "    print('false_positive_rate: ',false_positive_rate)\n",
    "    print('false_negative_rate: ',false_negative_rate)\n",
    "    \n",
    "    return total_num, sen, spe, false_positive_rate, false_negative_rate\n",
    "\n",
    "conf = confusion_matrix(label2_list, prediction2_list)\n",
    "model_efficacy(conf)"
   ]
  },
  {
   "cell_type": "code",
   "execution_count": 97,
   "metadata": {},
   "outputs": [
    {
     "name": "stdout",
     "output_type": "stream",
     "text": [
      "Traing Score:0.988333\n",
      "Testing Score:0.973333\n"
     ]
    }
   ],
   "source": [
    "from sklearn import datasets,cross_validation,ensemble\n",
    "\n",
    "X_train,X_test,y_train,y_test = cross_validation.train_test_split(train_feature_trans,train_label, \n",
    "                                              test_size=0.25, random_state=0,stratify=train_label)\n",
    "clf=ensemble.GradientBoostingClassifier()\n",
    "clf.fit(X_train,y_train)\n",
    "print(\"Traing Score:%f\"%clf.score(train_feature_trans,train_label))\n",
    "print(\"Testing Score:%f\"%clf.score(test_feature_trans,test_label))"
   ]
  },
  {
   "cell_type": "code",
   "execution_count": 98,
   "metadata": {},
   "outputs": [
    {
     "name": "stdout",
     "output_type": "stream",
     "text": [
      "Testing Score:0.953453\n"
     ]
    }
   ],
   "source": [
    "print(\"Testing Score:%f\"%clf.score(feature2_trans, label2))"
   ]
  },
  {
   "cell_type": "code",
   "execution_count": 99,
   "metadata": {},
   "outputs": [
    {
     "name": "stdout",
     "output_type": "stream",
     "text": [
      "             precision    recall  f1-score   support\n",
      "\n",
      "          0       1.00      0.95      0.98    284315\n",
      "          1       0.03      0.94      0.07       492\n",
      "\n",
      "avg / total       1.00      0.95      0.97    284807\n",
      "\n",
      "[[271088  13227]\n",
      " [    30    462]]\n"
     ]
    }
   ],
   "source": [
    "prediction2 = clf.predict(feature2_trans)\n",
    "prediction2_list = prediction2.reshape(-1).astype(int)\n",
    "label2_list = label2.astype(int)\n",
    "\n",
    "print(classification_report(label2_list, prediction2_list))\n",
    "print(confusion_matrix(label2_list, prediction2_list))"
   ]
  },
  {
   "cell_type": "code",
   "execution_count": 100,
   "metadata": {},
   "outputs": [
    {
     "name": "stdout",
     "output_type": "stream",
     "text": [
      "('total_num: ', 284807)\n",
      "('G1P1: ', 271088)\n",
      "('G0P1: ', 13227)\n",
      "('G1P0: ', 30)\n",
      "('G0P0: ', 462)\n",
      "##########################\n",
      "('sensitivity: ', 0)\n",
      "('specificity: ', 0)\n",
      "('false_positive_rate: ', 0)\n",
      "('false_negative_rate: ', 0)\n"
     ]
    },
    {
     "data": {
      "text/plain": [
       "(284807, 0, 0, 0, 0)"
      ]
     },
     "execution_count": 100,
     "metadata": {},
     "output_type": "execute_result"
    }
   ],
   "source": [
    "def model_efficacy(conf):\n",
    "    total_num = np.sum(conf)\n",
    "    sen = conf[0][0]/(conf[0][0]+conf[1][0])\n",
    "    spe = conf[1][1]/(conf[1][0]+conf[1][1])\n",
    "    false_positive_rate = conf[0][1]/(conf[0][1]+conf[1][1])\n",
    "    false_negative_rate = conf[1][0]/(conf[0][0]+conf[1][0])\n",
    "    \n",
    "    print('total_num: ',total_num)\n",
    "    print('G1P1: ',conf[0][0]) #G = gold standard; P = prediction\n",
    "    print('G0P1: ',conf[0][1])\n",
    "    print('G1P0: ',conf[1][0])\n",
    "    print('G0P0: ',conf[1][1])\n",
    "    print('##########################')\n",
    "    print('sensitivity: ',sen)\n",
    "    print('specificity: ',spe)\n",
    "    print('false_positive_rate: ',false_positive_rate)\n",
    "    print('false_negative_rate: ',false_negative_rate)\n",
    "    \n",
    "    return total_num, sen, spe, false_positive_rate, false_negative_rate\n",
    "\n",
    "conf = confusion_matrix(label2_list, prediction2_list)\n",
    "model_efficacy(conf)"
   ]
  },
  {
   "cell_type": "code",
   "execution_count": 101,
   "metadata": {},
   "outputs": [
    {
     "name": "stdout",
     "output_type": "stream",
     "text": [
      "Traing Score:0.988333\n",
      "Testing Score:0.981667\n"
     ]
    }
   ],
   "source": [
    "from sklearn import datasets,cross_validation,ensemble\n",
    "\n",
    "X_train,X_test,y_train,y_test = cross_validation.train_test_split(train_feature_trans,train_label, \n",
    "                                              test_size=0.25, random_state=0,stratify=train_label)\n",
    "clf=ensemble.RandomForestClassifier()\n",
    "clf.fit(X_train,y_train)\n",
    "print(\"Traing Score:%f\"%clf.score(train_feature_trans,train_label))\n",
    "print(\"Testing Score:%f\"%clf.score(test_feature_trans,test_label))"
   ]
  },
  {
   "cell_type": "code",
   "execution_count": 102,
   "metadata": {},
   "outputs": [
    {
     "name": "stdout",
     "output_type": "stream",
     "text": [
      "Testing Score:0.967589\n"
     ]
    }
   ],
   "source": [
    "print(\"Testing Score:%f\"%clf.score(feature2_trans, label2))"
   ]
  },
  {
   "cell_type": "code",
   "execution_count": 103,
   "metadata": {},
   "outputs": [
    {
     "name": "stdout",
     "output_type": "stream",
     "text": [
      "             precision    recall  f1-score   support\n",
      "\n",
      "          0       1.00      0.97      0.98    284315\n",
      "          1       0.05      0.94      0.09       492\n",
      "\n",
      "avg / total       1.00      0.97      0.98    284807\n",
      "\n",
      "[[275115   9200]\n",
      " [    31    461]]\n"
     ]
    }
   ],
   "source": [
    "prediction2 = clf.predict(feature2_trans)\n",
    "prediction2_list = prediction2.reshape(-1).astype(int)\n",
    "label2_list = label2.astype(int)\n",
    "\n",
    "print(classification_report(label2_list, prediction2_list))\n",
    "print(confusion_matrix(label2_list, prediction2_list))"
   ]
  },
  {
   "cell_type": "code",
   "execution_count": null,
   "metadata": {},
   "outputs": [],
   "source": []
  }
 ],
 "metadata": {
  "kernelspec": {
   "display_name": "Python 2",
   "language": "python",
   "name": "python2"
  },
  "language_info": {
   "codemirror_mode": {
    "name": "ipython",
    "version": 2
   },
   "file_extension": ".py",
   "mimetype": "text/x-python",
   "name": "python",
   "nbconvert_exporter": "python",
   "pygments_lexer": "ipython2",
   "version": "2.7.15"
  }
 },
 "nbformat": 4,
 "nbformat_minor": 2
}
